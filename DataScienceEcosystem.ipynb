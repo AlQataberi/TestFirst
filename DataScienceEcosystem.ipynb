{
 "cells": [
  {
   "cell_type": "markdown",
   "id": "00f16fc6-3674-4101-82f2-48082be8b7c9",
   "metadata": {},
   "source": [
    "# Data Science Tools and Ecosystem"
   ]
  },
  {
   "cell_type": "markdown",
   "id": "c66bbe91-42d2-430c-af02-5dc7db5fef8d",
   "metadata": {},
   "source": [
    "In this notebook, Data Science Tools and Ecosystem are summarized.\n"
   ]
  },
  {
   "cell_type": "markdown",
   "id": "4d490e8d-6a72-42be-b4ee-1674ef6319bb",
   "metadata": {},
   "source": [
    "Some of the popular languages that Data Scientists use are:\n",
    "\n",
    "1. Python  \n",
    "2. R  \n",
    "3. SQL  \n"
   ]
  },
  {
   "cell_type": "markdown",
   "id": "0e4f97d9-8234-49dd-9b23-ef3a309f6737",
   "metadata": {},
   "source": [
    "Some of the commonly used libraries used by Data Scientists include:\n",
    "\n",
    "1. NumPy  \n",
    "2. Pandas  \n",
    "3. Scikit-learn  \n",
    "4. TensorFlow  \n",
    "5. Matplotlib  \n"
   ]
  },
  {
   "cell_type": "markdown",
   "id": "7341668c-59f7-4291-8bcd-7b905271a2fc",
   "metadata": {},
   "source": [
    "| Data Science Tools |\n",
    "|--------------------|\n",
    "| Jupyter Notebook  |\n",
    "| RStudio           |\n",
    "| Google Colab   |"
   ]
  },
  {
   "cell_type": "markdown",
   "id": "b5cde327-ce25-43f1-b63d-86a19592f68a",
   "metadata": {},
   "source": [
    "### Below are a few examples of evaluating arithmetic expressions in Python.\n"
   ]
  },
  {
   "cell_type": "markdown",
   "id": "81cb4ede-cf4a-4ac1-843e-cd8a030752dd",
   "metadata": {},
   "source": [
    "#### This is a simple arithmetic expression to multiply then add integers\n",
    "(3 * 4) + 5\n"
   ]
  },
  {
   "cell_type": "code",
   "execution_count": 5,
   "id": "d11fe000-4c3d-4fdb-a3ff-49ae8a8a8881",
   "metadata": {},
   "outputs": [
    {
     "data": {
      "text/plain": [
       "17"
      ]
     },
     "execution_count": 5,
     "metadata": {},
     "output_type": "execute_result"
    }
   ],
   "source": [
    "# This is a simple arithmetic expression to multiply then add integers\n",
    "(3 * 4) + 5\n"
   ]
  },
  {
   "cell_type": "code",
   "execution_count": 6,
   "id": "75d7f8ef-2f31-48a6-b3e9-43554a32d85c",
   "metadata": {},
   "outputs": [
    {
     "data": {
      "text/plain": [
       "3.3333333333333335"
      ]
     },
     "execution_count": 6,
     "metadata": {},
     "output_type": "execute_result"
    }
   ],
   "source": [
    "# This will convert 200 minutes to hours by dividing by 60\n",
    "200 / 60\n"
   ]
  },
  {
   "cell_type": "markdown",
   "id": "ea70afd4-d1cd-4f09-9668-5a52905f4b52",
   "metadata": {},
   "source": [
    "**Objectives:**\n",
    "\n",
    "- List poplular languages for Data Science\n",
    "- Idetify common librarries used by Data Scientist\n",
    "- Undersand commonly used tools for data scince development environments\n",
    "- Evaluat arithmatic expresssions in Python\n",
    "- Convert time unts using Python \n",
    "\n"
   ]
  },
  {
   "cell_type": "markdown",
   "id": "0602dba8-40f6-4858-b628-b444f837d15c",
   "metadata": {},
   "source": [
    "## Author\n",
    "Asaad Al Qataberi\n"
   ]
  },
  {
   "cell_type": "code",
   "execution_count": null,
   "id": "d9d9f168-f60f-4354-b8d2-17c458837166",
   "metadata": {},
   "outputs": [],
   "source": []
  }
 ],
 "metadata": {
  "kernelspec": {
   "display_name": "Python 3 (ipykernel)",
   "language": "python",
   "name": "python3"
  },
  "language_info": {
   "codemirror_mode": {
    "name": "ipython",
    "version": 3
   },
   "file_extension": ".py",
   "mimetype": "text/x-python",
   "name": "python",
   "nbconvert_exporter": "python",
   "pygments_lexer": "ipython3",
   "version": "3.12.8"
  }
 },
 "nbformat": 4,
 "nbformat_minor": 5
}
